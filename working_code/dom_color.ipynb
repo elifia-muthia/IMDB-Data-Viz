{
 "cells": [
  {
   "cell_type": "code",
   "execution_count": 22,
   "metadata": {},
   "outputs": [
    {
     "data": {
      "image/png": "[encoded data removed]",
      "text/plain": [
       "<Figure size 432x288 with 1 Axes>"
      ]
     },
     "metadata": {
      "needs_background": "light"
     },
     "output_type": "display_data"
    },
    {
     "name": "stdout",
     "output_type": "stream",
     "text": [
      "#964331\n",
      "#fbee2f\n",
      "#d2d7cd\n",
      "[['#964331', 0.06848895434462444], ['#fbee2f', 0.9093136966126657], ['#d2d7cd', 0.02219734904270987]]\n"
     ]
    }
   ],
   "source": [
    "import cv2\n",
    "import numpy as np\n",
    "import matplotlib.pyplot as plt\n",
    "from sklearn.cluster import KMeans\n",
    "\n",
    "def rgb_to_hex(rgb):\n",
    "        return '#%02x%02x%02x' % (int(rgb[0]), int(rgb[1]), int(rgb[2]))\n",
    "\n",
    "def find_histogram(kmeans):\n",
    "\n",
    "    numLabels = np.arange(0, len(np.unique(kmeans.labels_)) + 1)\n",
    "    (hist, _) = np.histogram(kmeans.labels_, bins=numLabels)\n",
    "    hist = hist.astype(\"float\")\n",
    "    hist /= hist.sum()\n",
    "    return hist\n",
    "\n",
    "def plot_colors2(hist, centroids):\n",
    "    bar = np.zeros((50, 300, 3), dtype=\"uint8\")\n",
    "    startX = 0\n",
    "\n",
    "    for (percent, color) in zip(hist, centroids):\n",
    "        # plot the relative percentage of each cluster\n",
    "        endX = startX + (percent * 300)\n",
    "        cv2.rectangle(bar, (int(startX), 0), (int(endX), 50),\n",
    "                      color.astype(\"uint8\").tolist(), -1)\n",
    "        startX = endX\n",
    "\n",
    "    # return the bar chart\n",
    "    return bar\n",
    "\n",
    "img = cv2.imread(\"2782a3fac55a8332deac3ced8eb24b592d992b0d.jpg\") #reading image\n",
    "img = cv2.cvtColor(img, cv2.COLOR_BGR2RGB) #converting color from BGR to RGB\n",
    "\n",
    "img = img.reshape((img.shape[0] * img.shape[1],3)) #reshaping to a list of pixels, represent as row*column,channel number\n",
    "kmeans = KMeans(n_clusters=3) #cluster number\n",
    "kmeans.fit(img)\n",
    "\n",
    "hist = find_histogram(kmeans)\n",
    "bar = plot_colors2(hist, kmeans.cluster_centers_)\n",
    "\n",
    "plt.axis(\"off\")\n",
    "plt.imshow(bar)\n",
    "plt.show()\n",
    "\n",
    "colors=kmeans.cluster_centers_.astype(int)\n",
    "w, h = 2, len(colors);\n",
    "Matrix = [[0 for x in range(w)] for y in range(h)] \n",
    "for i in range(len(colors)):\n",
    "    hexColor= rgb_to_hex(colors[i])\n",
    "    print(hexColor)\n",
    "    Matrix[i][0] = hexColor\n",
    "    Matrix[i][1]=hist[i]\n",
    "print(Matrix)"
   ]
  },
  {
   "cell_type": "code",
   "execution_count": 10,
   "metadata": {},
   "outputs": [
    {
     "data": {
      "text/plain": [
       "'#35354a'"
      ]
     },
     "execution_count": 10,
     "metadata": {},
     "output_type": "execute_result"
    }
   ],
   "source": [
    "import cv2\n",
    "from sklearn.cluster import KMeans\n",
    "import numpy as np\n",
    "\n",
    "def rgb_to_hex(rgb):\n",
    "        return '#%02x%02x%02x' % (int(rgb[0]), int(rgb[1]), int(rgb[2]))\n",
    "\n",
    "def find_percents(kmeans):\n",
    "    numLabels = np.arange(0, len(np.unique(kmeans.labels_)) + 1)\n",
    "    (hist, _) = np.histogram(kmeans.labels_, bins=numLabels)\n",
    "    hist = hist.astype(\"float\")\n",
    "    hist /= hist.sum()\n",
    "    return hist\n",
    "\n",
    "def dom_colors(img_name, num):\n",
    "    img = cv2.imread(img_name) #read image\n",
    "    img = cv2.cvtColor(img, cv2.COLOR_BGR2RGB) #converting color from BGR to RGB\n",
    "\n",
    "    img = img.reshape((img.shape[0] * img.shape[1],3)) #reshaping to a list of pixels, represent as row*column,channel number\n",
    "    kmeans = KMeans(n_clusters=3) #cluster number\n",
    "    kmeans.fit(img)\n",
    "\n",
    "    percents = find_percents(kmeans)\n",
    "\n",
    "    colors = kmeans.cluster_centers_.astype(int)\n",
    "    w, h = 2, len(colors);\n",
    "    Matrix = [[0 for x in range(w)] for y in range(h)]\n",
    "    domcolor = 0\n",
    "    for i in range(len(colors)):\n",
    "        hexColor= rgb_to_hex(colors[i])\n",
    "        Matrix[i][0] = hexColor\n",
    "        Matrix[i][1]=percents[i]\n",
    "        if float(Matrix[i][1]) > float(Matrix[domcolor][1]):\n",
    "            domcolor = i\n",
    "    if num == \"all\":\n",
    "        return Matrix #returns top 3 colors\n",
    "    else: \n",
    "        return Matrix[domcolor][0] #returns only dominant color\n",
    "\n",
    "dom_colors(\"6b39baceadb424e8965bd63be62690abb91847e3 copy.jpg\", \"one\")\n",
    "\n",
    "\n"
   ]
  },
  {
   "cell_type": "code",
   "execution_count": null,
   "metadata": {},
   "outputs": [],
   "source": [
    "import cv2\n",
    "from sklearn.cluster import KMeans\n",
    "import numpy as np\n",
    "\n",
    "def rgb_to_hex(rgb):\n",
    "        return '#%02x%02x%02x' % (int(rgb[0]), int(rgb[1]), int(rgb[2]))\n",
    "\n",
    "def find_percents(kmeans):\n",
    "    numLabels = np.arange(0, len(np.unique(kmeans.labels_)) + 1)\n",
    "    (hist, _) = np.histogram(kmeans.labels_, bins=numLabels)\n",
    "    hist = hist.astype(\"float\")\n",
    "    hist /= hist.sum()\n",
    "    return hist\n",
    "\n",
    "img = cv2.imread(\"6e3298a2acbac293211ea5146604cdb43420eb5e copy.jpg\") #read image\n",
    "img = cv2.cvtColor(img, cv2.COLOR_BGR2RGB) #converting color from BGR to RGB\n",
    "\n",
    "img = img.reshape((img.shape[0] * img.shape[1],3)) #reshaping to a list of pixels, represent as row*column,channel number\n",
    "kmeans = KMeans(n_clusters=3) #cluster number\n",
    "kmeans.fit(img)\n",
    "\n",
    "percents = find_percents(kmeans)\n",
    "\n"
   ]
  },
  {
   "cell_type": "code",
   "execution_count": 8,
   "metadata": {
    "scrolled": true
   },
   "outputs": [
    {
     "name": "stdout",
     "output_type": "stream",
     "text": [
      "[[253 239  47]\n",
      " [173  45  28]\n",
      " [139 144  83]\n",
      " [223 228 224]]\n",
      "#fdef2f\n"
     ]
    }
   ],
   "source": [
    "#code sometimes works, sometimes really slow and never outputs\n",
    "#how to use for loop to cycle through - how to access names of files in movie poster folder\n",
    "#how to connect image file names to info in movie_metadata/database bc in diff order\n",
    "import cv2\n",
    "from sklearn.cluster import KMeans\n",
    "\n",
    "def rgb_to_hex(rgb):\n",
    "        return '#%02x%02x%02x' % (int(rgb[0]), int(rgb[1]), int(rgb[2]))\n",
    "    \n",
    "class DominantColors:\n",
    "\n",
    "    CLUSTERS = None\n",
    "    IMAGE = None\n",
    "    COLORS = None\n",
    "    LABELS = None\n",
    "    def __init__(self, image, clusters=3):\n",
    "        self.CLUSTERS = clusters\n",
    "        self.IMAGE = image\n",
    "    \n",
    "    def dominantColors(self):\n",
    "        img = cv2.imread('2782a3fac55a8332deac3ced8eb24b592d992b0d.jpg') #read image\n",
    "        img = cv2.cvtColor(img, cv2.COLOR_BGR2RGB) #convert from BGR to RGB\n",
    "        img = img.reshape((img.shape[0] * img.shape[1], 3)) #reshaping into list of pixels, row * column,channel number\n",
    "        \n",
    "        self.IMAGE = img #save image after operations\n",
    "        \n",
    "        kmeans = KMeans(n_clusters = self.CLUSTERS) #use k-means to cluster pixels into 3\n",
    "        kmeans.fit(img) #fitting image\n",
    "         \n",
    "        self.COLORS = kmeans.cluster_centers_ #the cluster centers are our dominant colors.\n",
    "        self.LABELS = kmeans.labels_ #save labels\n",
    "        \n",
    "        return self.COLORS.astype(int) #returning after converting to integer from float \n",
    "\n",
    "img = '2782a3fac55a8332deac3ced8eb24b592d992b0d.jpg'   \n",
    "\n",
    "clusters = 4\n",
    "dc = DominantColors(img, clusters) \n",
    "colors = dc.dominantColors()\n",
    "\n",
    "print(colors)\n",
    "print(rgb_to_hex(colors[0])) #don't know if most dominant color (largest in histogram) is always first\n",
    "\n",
    "\n",
    "#for i in range(clusters): \n",
    "    #hexColor = rgb_to_hex(colors[i])\n",
    "    #print(hexColor)"
   ]
  },
  {
   "cell_type": "code",
   "execution_count": 2,
   "metadata": {},
   "outputs": [
    {
     "name": "stdout",
     "output_type": "stream",
     "text": [
      "(95103, (96, 68, 145))\n"
     ]
    }
   ],
   "source": [
    "from PIL import Image\n",
    "\n",
    "image = Image.open('6e3298a2acbac293211ea5146604cdb43420eb5e copy.jpg') #reading image\n",
    "\n",
    "#def most_frequent_color(image):\n",
    "\n",
    "w, h = image.size\n",
    "pixels = image.getcolors(w * h)\n",
    "\n",
    "most_frequent_pixel = pixels[0]\n",
    "\n",
    "for count, colour in pixels:\n",
    "    if count > most_frequent_pixel[0]:\n",
    "        most_frequent_pixel = (count, colour)\n",
    "\n",
    "print (most_frequent_pixel)"
   ]
  },
  {
   "cell_type": "code",
   "execution_count": null,
   "metadata": {},
   "outputs": [],
   "source": []
  }
 ],
 "metadata": {
  "kernelspec": {
   "display_name": "Python 3",
   "language": "python",
   "name": "python3"
  },
  "language_info": {
   "codemirror_mode": {
    "name": "ipython",
    "version": 3
   },
   "file_extension": ".py",
   "mimetype": "text/x-python",
   "name": "python",
   "nbconvert_exporter": "python",
   "pygments_lexer": "ipython3",
   "version": "3.6.8"
  }
 },
 "nbformat": 4,
 "nbformat_minor": 2
}
